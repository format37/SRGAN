{
 "cells": [
  {
   "cell_type": "code",
   "execution_count": 1,
   "id": "e1ae79e2",
   "metadata": {},
   "outputs": [],
   "source": [
    "#!pip install gradio\n",
    "#!pip install basicsr"
   ]
  },
  {
   "cell_type": "code",
   "execution_count": 2,
   "id": "9ca23d01",
   "metadata": {},
   "outputs": [],
   "source": [
    "import torch\n",
    "import numpy as np\n",
    "import gradio\n",
    "from huggingface_hub import hf_hub_download\n",
    "from basicsr.archs.srresnet_arch import MSRResNet"
   ]
  },
  {
   "cell_type": "code",
   "execution_count": 3,
   "id": "e3a4d69b",
   "metadata": {},
   "outputs": [],
   "source": [
    "class SimpleRealUpscaler:\n",
    "    def __init__(self):\n",
    "        self.device = torch.device('cuda' if torch.cuda.is_available() else 'cpu')\n",
    "        model = MSRResNet(num_in_ch=3, num_out_ch=3, num_feat=32, num_block=6, upscale=4)\n",
    "        path = hf_hub_download(\"xiongjie/realtime-SRGAN-for-anime\", filename=\"SRGAN_x4plus_anime.pth\")\n",
    "        loadnet = torch.load(path)\n",
    "        if 'params_ema' in loadnet:\n",
    "            keyname = 'params_ema'\n",
    "        else:\n",
    "            keyname = 'params'\n",
    "        model.load_state_dict(loadnet[keyname], strict=True)\n",
    "        model.eval()\n",
    "        self.model = model.to(self.device)\n",
    "    @torch.no_grad()\n",
    "    def upscale(self, np_image_rgb):\n",
    "        image_rgb_tensor = torch.tensor(np_image_rgb[:,:,::-1].astype(np.float32)).to(self.device)\n",
    "        image_rgb_tensor /= 255\n",
    "        image_rgb_tensor = image_rgb_tensor.permute(2, 0, 1)\n",
    "        image_rgb_tensor = image_rgb_tensor.unsqueeze(0)\n",
    "        output_img = self.model(image_rgb_tensor)\n",
    "        output_img = output_img.data.squeeze().float().clamp_(0, 1)\n",
    "        output_img = output_img.permute((1, 2, 0))\n",
    "        output = (output_img * 255.0).round().cpu().numpy().astype(np.uint8)\n",
    "        return output[:, :, ::-1]\n",
    "upscaler = SimpleRealUpscaler()\n",
    "def upscale(np_image_rgb):\n",
    "    return upscaler.upscale(np_image_rgb)"
   ]
  },
  {
   "cell_type": "code",
   "execution_count": 4,
   "id": "782d2145",
   "metadata": {},
   "outputs": [],
   "source": [
    "css = \".output_image {height: 100% !important; width: 100% !important;}\"\n",
    "inputs = gradio.inputs.Image()\n",
    "outputs = gradio.outputs.Image()"
   ]
  },
  {
   "cell_type": "code",
   "execution_count": 5,
   "id": "8b6e0e40",
   "metadata": {},
   "outputs": [
    {
     "name": "stdout",
     "output_type": "stream",
     "text": [
      "Running on local URL:  http://127.0.0.1:7860/\n",
      "\n",
      "To create a public link, set `share=True` in `launch()`.\n"
     ]
    },
    {
     "data": {
      "text/html": [
       "\n",
       "        <iframe\n",
       "            width=\"900\"\n",
       "            height=\"500\"\n",
       "            src=\"http://127.0.0.1:7860/\"\n",
       "            frameborder=\"0\"\n",
       "            allowfullscreen\n",
       "        ></iframe>\n",
       "        "
      ],
      "text/plain": [
       "<IPython.lib.display.IFrame at 0x7f8b20679160>"
      ]
     },
     "metadata": {},
     "output_type": "display_data"
    },
    {
     "data": {
      "text/plain": [
       "(<Flask 'gradio.networking'>, 'http://127.0.0.1:7860/', None)"
      ]
     },
     "execution_count": 5,
     "metadata": {},
     "output_type": "execute_result"
    }
   ],
   "source": [
    "gradio.Interface(fn=upscale, inputs=inputs, outputs=outputs, css=css).launch()"
   ]
  }
 ],
 "metadata": {
  "kernelspec": {
   "display_name": "Python 3 (ipykernel)",
   "language": "python",
   "name": "python3"
  },
  "language_info": {
   "codemirror_mode": {
    "name": "ipython",
    "version": 3
   },
   "file_extension": ".py",
   "mimetype": "text/x-python",
   "name": "python",
   "nbconvert_exporter": "python",
   "pygments_lexer": "ipython3",
   "version": "3.8.8"
  }
 },
 "nbformat": 4,
 "nbformat_minor": 5
}
